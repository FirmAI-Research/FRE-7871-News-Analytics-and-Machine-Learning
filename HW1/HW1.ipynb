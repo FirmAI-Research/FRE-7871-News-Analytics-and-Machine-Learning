{
 "cells": [
  {
   "cell_type": "markdown",
   "metadata": {},
   "source": [
    "### HW1： "
   ]
  },
  {
   "cell_type": "markdown",
   "metadata": {},
   "source": [
    "## **Part 1: Onion vs. Economist**"
   ]
  },
  {
   "cell_type": "markdown",
   "metadata": {},
   "source": [
    "### Import Libraries"
   ]
  },
  {
   "cell_type": "code",
   "execution_count": 13,
   "metadata": {},
   "outputs": [
    {
     "name": "stderr",
     "output_type": "stream",
     "text": [
      "[nltk_data] Downloading package stopwords to\n",
      "[nltk_data]     C:\\Users\\mengh\\AppData\\Roaming\\nltk_data...\n",
      "[nltk_data]   Package stopwords is already up-to-date!\n"
     ]
    }
   ],
   "source": [
    "import pandas as pd\n",
    "import os\n",
    "import itertools\n",
    "import matplotlib.pyplot as plt\n",
    "import seaborn as sns\n",
    "from sklearn.preprocessing import LabelEncoder\n",
    "\n",
    "# Cleaning the texts\n",
    "import re\n",
    "import nltk\n",
    "nltk.download('stopwords') # dictionary contains all stopping words\n",
    "from nltk.corpus import stopwords \n",
    "from nltk.stem.porter import PorterStemmer \n",
    "\n",
    "# Creating the Bag of Words model\n",
    "from sklearn.feature_extraction.text import CountVectorizer\n",
    "from sklearn.model_selection import train_test_split\n",
    "from sklearn.naive_bayes import MultinomialNB\n",
    "from sklearn.metrics import confusion_matrix\n",
    "from sklearn.model_selection import cross_val_score\n",
    "from sklearn.model_selection import cross_validate\n",
    "from sklearn.model_selection import KFold\n",
    "from sklearn.metrics import make_scorer, accuracy_score, precision_score, recall_score, f1_score"
   ]
  },
  {
   "cell_type": "markdown",
   "metadata": {},
   "source": [
    "### Data Preparation"
   ]
  },
  {
   "cell_type": "code",
   "execution_count": 3,
   "metadata": {},
   "outputs": [
    {
     "data": {
      "text/html": [
       "<div>\n",
       "<style scoped>\n",
       "    .dataframe tbody tr th:only-of-type {\n",
       "        vertical-align: middle;\n",
       "    }\n",
       "\n",
       "    .dataframe tbody tr th {\n",
       "        vertical-align: top;\n",
       "    }\n",
       "\n",
       "    .dataframe thead th {\n",
       "        text-align: right;\n",
       "    }\n",
       "</style>\n",
       "<table border=\"1\" class=\"dataframe\">\n",
       "  <thead>\n",
       "    <tr style=\"text-align: right;\">\n",
       "      <th></th>\n",
       "      <th>file_name</th>\n",
       "      <th>text</th>\n",
       "      <th>class</th>\n",
       "    </tr>\n",
       "  </thead>\n",
       "  <tbody>\n",
       "    <tr>\n",
       "      <th>0</th>\n",
       "      <td>africa.1.txt</td>\n",
       "      <td>\\n                                            ...</td>\n",
       "      <td>0</td>\n",
       "    </tr>\n",
       "    <tr>\n",
       "      <th>1</th>\n",
       "      <td>africa.10.txt</td>\n",
       "      <td>\\n                                            ...</td>\n",
       "      <td>0</td>\n",
       "    </tr>\n",
       "    <tr>\n",
       "      <th>2</th>\n",
       "      <td>africa.11.txt</td>\n",
       "      <td>\\n   The Kurds say they still want more of it ...</td>\n",
       "      <td>0</td>\n",
       "    </tr>\n",
       "    <tr>\n",
       "      <th>3</th>\n",
       "      <td>africa.12.txt</td>\n",
       "      <td>\\n   A politician who paid the price for telli...</td>\n",
       "      <td>0</td>\n",
       "    </tr>\n",
       "    <tr>\n",
       "      <th>4</th>\n",
       "      <td>africa.13.txt</td>\n",
       "      <td>\\n   President Mwai Kibaki is loth to back dow...</td>\n",
       "      <td>0</td>\n",
       "    </tr>\n",
       "  </tbody>\n",
       "</table>\n",
       "</div>"
      ],
      "text/plain": [
       "       file_name                                               text  class\n",
       "0   africa.1.txt  \\n                                            ...      0\n",
       "1  africa.10.txt  \\n                                            ...      0\n",
       "2  africa.11.txt  \\n   The Kurds say they still want more of it ...      0\n",
       "3  africa.12.txt  \\n   A politician who paid the price for telli...      0\n",
       "4  africa.13.txt  \\n   President Mwai Kibaki is loth to back dow...      0"
      ]
     },
     "execution_count": 3,
     "metadata": {},
     "output_type": "execute_result"
    }
   ],
   "source": [
    "econ_path = 'C:/Users/mengh/Dropbox/FRE-7871-News-Analytics-and-Machine-Learning/HW1/economist/'\n",
    "onion_path = 'C:/Users/mengh/Dropbox/FRE-7871-News-Analytics-and-Machine-Learning/HW1/onion/'\n",
    "\n",
    "def data_preparation(path, class_name):\n",
    "\n",
    "    # Create Dictionary for File Name and Text\n",
    "    file_name_and_text = {}\n",
    "    \n",
    "    if class_name == 'econ':\n",
    "        sub_path_names = os.listdir(path)\n",
    "\n",
    "        for sub_path in sub_path_names:\n",
    "            file_names = os.listdir(path+sub_path)\n",
    "            for file in file_names:\n",
    "                if file.endswith(\".txt\"):\n",
    "                    with open(path + sub_path + '/'+ file, \"r\") as target_file:\n",
    "                         file_name_and_text[file] = target_file.read()\n",
    "    else:\n",
    "        file_names = os.listdir(path)\n",
    "\n",
    "        for file in file_names:\n",
    "            if file.endswith(\".txt\"):\n",
    "                with open(path + file, \"r\") as target_file:\n",
    "                     file_name_and_text[file] = target_file.read()\n",
    "\n",
    "    file_data = (pd.DataFrame.from_dict(file_name_and_text, orient='index')\n",
    "                 .reset_index().rename(index = str, columns = {'index': 'file_name', 0: 'text'}))\n",
    "    file_data['class'] = class_name\n",
    "    return file_data\n",
    "\n",
    "def data_generate_label(df):\n",
    "    le = LabelEncoder()\n",
    "    df['class'] = le.fit_transform(df['class'])\n",
    "    df = df.astype({'class': int})\n",
    "    \n",
    "    return df\n",
    "\n",
    "econ_df = data_preparation(econ_path, 'econ')\n",
    "onion_df = data_preparation(onion_path, 'onion')\n",
    "article_df = pd.concat([econ_df, onion_df], ignore_index=True)\n",
    "\n",
    "article_df = data_generate_label(article_df)\n",
    "article_df.head()"
   ]
  },
  {
   "cell_type": "markdown",
   "metadata": {},
   "source": [
    "### Data Cleaning "
   ]
  },
  {
   "cell_type": "code",
   "execution_count": 4,
   "metadata": {},
   "outputs": [
    {
     "name": "stdout",
     "output_type": "stream",
     "text": [
      "50 articles cleaned...\n",
      "100 articles cleaned...\n",
      "150 articles cleaned...\n",
      "200 articles cleaned...\n",
      "250 articles cleaned...\n",
      "300 articles cleaned...\n",
      "350 articles cleaned...\n",
      "400 articles cleaned...\n",
      "450 articles cleaned...\n",
      "500 articles cleaned...\n",
      "550 articles cleaned...\n",
      "600 articles cleaned...\n",
      "650 articles cleaned...\n",
      "700 articles cleaned...\n",
      "complete.\n"
     ]
    }
   ],
   "source": [
    "def data_cleaning(article_df):\n",
    "    corpus = [] # bag of words\n",
    "    \n",
    "    for index, row in article_df.iterrows():\n",
    "        article = re.sub('[^a-zA-Z]', ' ', row['text']) # keep only letters\n",
    "        article = article.lower() # lower case \n",
    "        article = article.split() # string to list \n",
    "        ps = PorterStemmer() # sstemmed\n",
    "\n",
    "        article = [ps.stem(word) for word in article if not word in set(stopwords.words('english'))] # if not stopping word, reserve word \n",
    "        article = ' '.join(article) # list to string \n",
    "        corpus.append(article)\n",
    "        \n",
    "        if (index+1) % 50 == 0:\n",
    "            print('{} articles cleaned...'.format(index+1))\n",
    "    print('complete.') \n",
    "    return corpus\n",
    "\n",
    "corpus = data_cleaning(article_df)"
   ]
  },
  {
   "cell_type": "markdown",
   "metadata": {},
   "source": [
    "### Model Testing\n",
    "+ Evaluate classifier using 10-fold cross validation and report overall prediction accuracy, precision, recall and F1 of each class for the validataion set. Also, summarize errors using a confusion matrix for the test set."
   ]
  },
  {
   "cell_type": "code",
   "execution_count": 30,
   "metadata": {},
   "outputs": [
    {
     "name": "stdout",
     "output_type": "stream",
     "text": [
      "  Model  Accuracy  Precision    Recall  F1 Score\n",
      "0    NB  0.982759   0.958375  0.986425  0.971129\n"
     ]
    },
    {
     "data": {
      "image/png": "[encoded data removed]",
      "text/plain": [
       "<Figure size 720x360 with 2 Axes>"
      ]
     },
     "metadata": {},
     "output_type": "display_data"
    }
   ],
   "source": [
    "def nlp_model(corpus, article_df):\n",
    "    cv = CountVectorizer(max_features = 11000)\n",
    "    X = cv.fit_transform(corpus).toarray()\n",
    "    y = article_df.loc[:, 'class'].values\n",
    "    X_train, X_test, y_train, y_test = train_test_split(X, y, test_size=0.20, random_state=1)\n",
    "    classifier = MultinomialNB()\n",
    "    classifier.fit(X_train, y_train)\n",
    "    y_pred = classifier.predict(X_test)\n",
    "    \n",
    "    scoring = {'accuracy' : make_scorer(accuracy_score), \n",
    "           'precision' : make_scorer(precision_score),\n",
    "           'recall' : make_scorer(recall_score), \n",
    "           'f1_score' : make_scorer(f1_score)}\n",
    "    kfold = KFold(n_splits=10, random_state=42)\n",
    "    results = cross_validate(estimator=classifier, X=X_train, y=y_train, cv=kfold, scoring=scoring)\n",
    "    kfold_performance = pd.DataFrame({'Model': 'NB', 'Accuracy': np.mean(results['test_accuracy']),\n",
    "                                       'Precision': np.mean(results['test_precision']),\n",
    "                                       'Recall': np.mean(results['test_recall']),\n",
    "                                       'F1 Score': np.mean(results['test_f1_score'])}, index=[0])\n",
    "    print(kfold_performance)\n",
    "    \n",
    "    \n",
    "    cm = confusion_matrix(y_test, y_pred)\n",
    "    plot_confusion_matrix(cm, title='Confusion matrix')\n",
    "\n",
    "\n",
    "def plot_confusion_matrix(cm, title='Confusion matrix', cmap=plt.cm.Blues):\n",
    "    '''\n",
    "    This function is to plot a nice confusion matrix.\n",
    "    inputs:\n",
    "    cm: confusion matrix calculated by sklearn \n",
    "    '''\n",
    "    plt.rcParams['figure.figsize'] = (10, 5)\n",
    "    sns.set_context('notebook', font_scale=1.5)\n",
    "    plt.style.use('seaborn-white')\n",
    "    \n",
    "    plt.imshow(cm, interpolation='nearest', cmap=cmap)\n",
    "    plt.title(title)\n",
    "    plt.colorbar()\n",
    "    tick_marks = np.arange(cm.shape[1])\n",
    "    plt.xticks(tick_marks, rotation=45)\n",
    "    ax = plt.gca()\n",
    "    ax.set_xticklabels((ax.get_xticks()).astype(str))\n",
    "    plt.yticks(tick_marks)\n",
    "\n",
    "    thresh = cm.max() / 2.\n",
    "    for i, j in itertools.product(range(cm.shape[0]), range(cm.shape[1])):\n",
    "        plt.text(j, i, format(cm[i, j], '.0f'),\n",
    "                 horizontalalignment=\"center\",\n",
    "                 color=\"white\" if cm[i, j] > thresh else \"black\")\n",
    "    plt.tight_layout()\n",
    "    plt.ylabel('True label')\n",
    "    plt.xlabel('Predicted label')\n",
    "    plt.show()\n",
    "    \n",
    "nlp_model(corpus, article_df)"
   ]
  },
  {
   "cell_type": "markdown",
   "metadata": {},
   "source": [
    "## **Part 2: Economist Regions**\n",
    "\n",
    "### Data Preparation"
   ]
  },
  {
   "cell_type": "code",
   "execution_count": 31,
   "metadata": {},
   "outputs": [
    {
     "data": {
      "text/html": [
       "<div>\n",
       "<style scoped>\n",
       "    .dataframe tbody tr th:only-of-type {\n",
       "        vertical-align: middle;\n",
       "    }\n",
       "\n",
       "    .dataframe tbody tr th {\n",
       "        vertical-align: top;\n",
       "    }\n",
       "\n",
       "    .dataframe thead th {\n",
       "        text-align: right;\n",
       "    }\n",
       "</style>\n",
       "<table border=\"1\" class=\"dataframe\">\n",
       "  <thead>\n",
       "    <tr style=\"text-align: right;\">\n",
       "      <th></th>\n",
       "      <th>file_name</th>\n",
       "      <th>text</th>\n",
       "      <th>class</th>\n",
       "    </tr>\n",
       "  </thead>\n",
       "  <tbody>\n",
       "    <tr>\n",
       "      <th>0</th>\n",
       "      <td>africa.1.txt</td>\n",
       "      <td>\\n                                            ...</td>\n",
       "      <td>0</td>\n",
       "    </tr>\n",
       "    <tr>\n",
       "      <th>1</th>\n",
       "      <td>africa.10.txt</td>\n",
       "      <td>\\n                                            ...</td>\n",
       "      <td>0</td>\n",
       "    </tr>\n",
       "    <tr>\n",
       "      <th>2</th>\n",
       "      <td>africa.11.txt</td>\n",
       "      <td>\\n   The Kurds say they still want more of it ...</td>\n",
       "      <td>0</td>\n",
       "    </tr>\n",
       "    <tr>\n",
       "      <th>3</th>\n",
       "      <td>africa.12.txt</td>\n",
       "      <td>\\n   A politician who paid the price for telli...</td>\n",
       "      <td>0</td>\n",
       "    </tr>\n",
       "    <tr>\n",
       "      <th>4</th>\n",
       "      <td>africa.13.txt</td>\n",
       "      <td>\\n   President Mwai Kibaki is loth to back dow...</td>\n",
       "      <td>0</td>\n",
       "    </tr>\n",
       "  </tbody>\n",
       "</table>\n",
       "</div>"
      ],
      "text/plain": [
       "       file_name                                               text  class\n",
       "0   africa.1.txt  \\n                                            ...      0\n",
       "1  africa.10.txt  \\n                                            ...      0\n",
       "2  africa.11.txt  \\n   The Kurds say they still want more of it ...      0\n",
       "3  africa.12.txt  \\n   A politician who paid the price for telli...      0\n",
       "4  africa.13.txt  \\n   President Mwai Kibaki is loth to back dow...      0"
      ]
     },
     "execution_count": 31,
     "metadata": {},
     "output_type": "execute_result"
    }
   ],
   "source": [
    "econ_path = 'C:/Users/mengh/Dropbox/FRE-7871-News-Analytics-and-Machine-Learning/HW1/economist/'\n",
    "\n",
    "def econ_data_preparation(path):\n",
    "    df = pd.DataFrame(columns=['file_name', 'text', 'class'])  \n",
    "    region_names = os.listdir(path)\n",
    "\n",
    "    for region_name in region_names:\n",
    "        # Create Dictionary for File Name and Text\n",
    "        file_name_and_text = {}\n",
    "        file_names = os.listdir(path+region_name)\n",
    "        for file in file_names:\n",
    "            if file.endswith(\".txt\"):\n",
    "                with open(path + region_name + '/'+ file, \"r\") as target_file:\n",
    "                     file_name_and_text[file] = target_file.read()\n",
    "\n",
    "        file_data = (pd.DataFrame.from_dict(file_name_and_text, orient='index')\n",
    "                     .reset_index().rename(index = str, columns = {'index': 'file_name', 0: 'text'}))\n",
    "        file_data['class'] = region_name    \n",
    "        df =  pd.concat([df, file_data], ignore_index=True)\n",
    "    \n",
    "    return df, region_names\n",
    "\n",
    "econ_df, region_names = econ_data_preparation(econ_path)\n",
    "econ_df = data_generate_label(econ_df)\n",
    "econ_df.head()"
   ]
  },
  {
   "cell_type": "markdown",
   "metadata": {},
   "source": [
    "### Data Cleaning"
   ]
  },
  {
   "cell_type": "code",
   "execution_count": null,
   "metadata": {},
   "outputs": [
    {
     "name": "stdout",
     "output_type": "stream",
     "text": [
      "50 articles cleaned...\n"
     ]
    }
   ],
   "source": [
    "corpus_econ = data_cleaning(econ_df)"
   ]
  },
  {
   "cell_type": "code",
   "execution_count": null,
   "metadata": {},
   "outputs": [],
   "source": [
    "nlp_model(corpus_econ, econ_df)"
   ]
  },
  {
   "cell_type": "code",
   "execution_count": null,
   "metadata": {},
   "outputs": [],
   "source": []
  }
 ],
 "metadata": {
  "kernelspec": {
   "display_name": "Python 3",
   "language": "python",
   "name": "python3"
  },
  "language_info": {
   "codemirror_mode": {
    "name": "ipython",
    "version": 3
   },
   "file_extension": ".py",
   "mimetype": "text/x-python",
   "name": "python",
   "nbconvert_exporter": "python",
   "pygments_lexer": "ipython3",
   "version": "3.6.7"
  }
 },
 "nbformat": 4,
 "nbformat_minor": 2
}
