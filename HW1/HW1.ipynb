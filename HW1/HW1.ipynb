{
 "cells": [
  {
   "cell_type": "markdown",
   "metadata": {},
   "source": [
    "# **HW1** "
   ]
  },
  {
   "cell_type": "markdown",
   "metadata": {},
   "source": [
    "## **Part 1: Onion vs. Economist**"
   ]
  },
  {
   "cell_type": "markdown",
   "metadata": {},
   "source": [
    "### Import Libraries"
   ]
  },
  {
   "cell_type": "code",
   "execution_count": 106,
   "metadata": {},
   "outputs": [
    {
     "name": "stderr",
     "output_type": "stream",
     "text": [
      "[nltk_data] Downloading package stopwords to\n",
      "[nltk_data]     C:\\Users\\mengh\\AppData\\Roaming\\nltk_data...\n",
      "[nltk_data]   Package stopwords is already up-to-date!\n"
     ]
    }
   ],
   "source": [
    "import pandas as pd\n",
    "import os\n",
    "import itertools\n",
    "import matplotlib.pyplot as plt\n",
    "import seaborn as sns\n",
    "from sklearn.preprocessing import LabelEncoder\n",
    "\n",
    "# Cleaning the texts\n",
    "import re\n",
    "import nltk\n",
    "nltk.download('stopwords') # dictionary contains all stopping words\n",
    "from nltk.corpus import stopwords \n",
    "from nltk.stem.porter import PorterStemmer \n",
    "\n",
    "# Creating the Bag of Words model\n",
    "from sklearn.feature_extraction.text import CountVectorizer\n",
    "from sklearn.model_selection import train_test_split\n",
    "from sklearn.naive_bayes import MultinomialNB\n",
    "from sklearn.metrics import confusion_matrix\n",
    "from sklearn.model_selection import cross_val_score\n",
    "from sklearn.model_selection import cross_validate\n",
    "from sklearn.model_selection import KFold\n",
    "from sklearn.metrics import classification_report\n",
    "from sklearn.metrics import make_scorer, accuracy_score, precision_score, recall_score, f1_score\n",
    "from collections import Counter"
   ]
  },
  {
   "cell_type": "markdown",
   "metadata": {},
   "source": [
    "### Data Preparation"
   ]
  },
  {
   "cell_type": "code",
   "execution_count": 116,
   "metadata": {},
   "outputs": [
    {
     "data": {
      "text/html": [
       "<div>\n",
       "<style scoped>\n",
       "    .dataframe tbody tr th:only-of-type {\n",
       "        vertical-align: middle;\n",
       "    }\n",
       "\n",
       "    .dataframe tbody tr th {\n",
       "        vertical-align: top;\n",
       "    }\n",
       "\n",
       "    .dataframe thead th {\n",
       "        text-align: right;\n",
       "    }\n",
       "</style>\n",
       "<table border=\"1\" class=\"dataframe\">\n",
       "  <thead>\n",
       "    <tr style=\"text-align: right;\">\n",
       "      <th></th>\n",
       "      <th>file_name</th>\n",
       "      <th>text</th>\n",
       "      <th>class</th>\n",
       "    </tr>\n",
       "  </thead>\n",
       "  <tbody>\n",
       "    <tr>\n",
       "      <th>0</th>\n",
       "      <td>africa.1.txt</td>\n",
       "      <td>\\n                                            ...</td>\n",
       "      <td>0</td>\n",
       "    </tr>\n",
       "    <tr>\n",
       "      <th>1</th>\n",
       "      <td>africa.10.txt</td>\n",
       "      <td>\\n                                            ...</td>\n",
       "      <td>0</td>\n",
       "    </tr>\n",
       "    <tr>\n",
       "      <th>2</th>\n",
       "      <td>africa.11.txt</td>\n",
       "      <td>\\n   The Kurds say they still want more of it ...</td>\n",
       "      <td>0</td>\n",
       "    </tr>\n",
       "    <tr>\n",
       "      <th>3</th>\n",
       "      <td>africa.12.txt</td>\n",
       "      <td>\\n   A politician who paid the price for telli...</td>\n",
       "      <td>0</td>\n",
       "    </tr>\n",
       "    <tr>\n",
       "      <th>4</th>\n",
       "      <td>africa.13.txt</td>\n",
       "      <td>\\n   President Mwai Kibaki is loth to back dow...</td>\n",
       "      <td>0</td>\n",
       "    </tr>\n",
       "  </tbody>\n",
       "</table>\n",
       "</div>"
      ],
      "text/plain": [
       "       file_name                                               text  class\n",
       "0   africa.1.txt  \\n                                            ...      0\n",
       "1  africa.10.txt  \\n                                            ...      0\n",
       "2  africa.11.txt  \\n   The Kurds say they still want more of it ...      0\n",
       "3  africa.12.txt  \\n   A politician who paid the price for telli...      0\n",
       "4  africa.13.txt  \\n   President Mwai Kibaki is loth to back dow...      0"
      ]
     },
     "execution_count": 116,
     "metadata": {},
     "output_type": "execute_result"
    }
   ],
   "source": [
    "econ_path = 'C:/Users/mengh/Dropbox/FRE-7871-News-Analytics-and-Machine-Learning/HW1/economist/'\n",
    "onion_path = 'C:/Users/mengh/Dropbox/FRE-7871-News-Analytics-and-Machine-Learning/HW1/onion/'\n",
    "\n",
    "def data_preparation(path, class_name):\n",
    "\n",
    "    # Create Dictionary for File Name and Text\n",
    "    file_name_and_text = {}\n",
    "    \n",
    "    if class_name == 'econ':\n",
    "        sub_path_names = os.listdir(path)\n",
    "        for sub_path in sub_path_names:        \n",
    "            file_names = os.listdir(path+sub_path)\n",
    "            for file in file_names:\n",
    "                if file.endswith(\".txt\"):\n",
    "                    with open(path + sub_path + '/'+ file, \"r\") as target_file:\n",
    "                         file_name_and_text[file] = target_file.read()\n",
    "    else:\n",
    "        file_names = os.listdir(path)\n",
    "        for file in file_names:\n",
    "            if file.endswith(\".txt\"):\n",
    "                with open(path + file, \"r\") as target_file:\n",
    "                     file_name_and_text[file] = target_file.read()\n",
    "\n",
    "    file_data = (pd.DataFrame.from_dict(file_name_and_text, orient='index')\n",
    "                 .reset_index().rename(index = str, columns = {'index': 'file_name', 0: 'text'}))\n",
    "    file_data['class'] = class_name\n",
    "    return file_data\n",
    "\n",
    "def data_generate_label(df):\n",
    "    le = LabelEncoder()\n",
    "    df['class'] = le.fit_transform(df['class'])\n",
    "    df = df.astype({'class': int})\n",
    "    \n",
    "    return df\n",
    "\n",
    "econ_df = data_preparation(econ_path, 'econ')\n",
    "onion_df = data_preparation(onion_path, 'onion')\n",
    "article_df = pd.concat([econ_df, onion_df], ignore_index=True)\n",
    "\n",
    "article_df = data_generate_label(article_df)\n",
    "article_df.head()"
   ]
  },
  {
   "cell_type": "markdown",
   "metadata": {},
   "source": [
    "### Data Cleaning "
   ]
  },
  {
   "cell_type": "code",
   "execution_count": 139,
   "metadata": {},
   "outputs": [],
   "source": [
    "def data_cleaning(article_df):\n",
    "    corpus = [] # bag of words\n",
    "    \n",
    "    for index, row in article_df.iterrows():\n",
    "        article = re.sub('[^a-zA-Z]', ' ', row['text']) # keep only letters\n",
    "        article = article.lower() # lower case \n",
    "        article = article.split() # string to list \n",
    "        ps = PorterStemmer() # sstemmed\n",
    "\n",
    "        article = [ps.stem(word) for word in article if not word in set(stopwords.words('english'))] # if not stopping word, reserve word \n",
    "        article = ' '.join(article) # list to string \n",
    "        corpus.append(article)\n",
    "        if (int(index)+1) % 50 == 0:\n",
    "            print('{} articles cleaned...'.format(int(index)+1))\n",
    "    print('complete.') \n",
    "    return corpus"
   ]
  },
  {
   "cell_type": "markdown",
   "metadata": {},
   "source": [
    "### Model Testing\n",
    "+ Evaluate classifier using 10-fold cross validation and report overall prediction **accuracy**, **precision**, **recall** and **F1** of each class for the ***validataion set***.\n",
    "+ Summarize error metrices for each class and confusion matrix for the ***test set***."
   ]
  },
  {
   "cell_type": "code",
   "execution_count": 102,
   "metadata": {},
   "outputs": [
    {
     "name": "stdout",
     "output_type": "stream",
     "text": [
      "CountVectorizer(analyzer='word', binary=False, decode_error='strict',\n",
      "        dtype=<class 'numpy.int64'>, encoding='utf-8', input='content',\n",
      "        lowercase=True, max_df=1.0, max_features=11000, min_df=1,\n",
      "        ngram_range=(1, 1), preprocessor=None, stop_words=None,\n",
      "        strip_accents=None, token_pattern='(?u)\\\\b\\\\w\\\\w+\\\\b',\n",
      "        tokenizer=None, vocabulary=None)\n",
      "=======Performance Metrics for Validation Set=============\n",
      "  Model  ValAccuracy  ValPrecision  ValRecall  ValF1Score\n",
      "0    NB     0.989655      0.990265   0.989655    0.989787\n",
      "\n",
      "=======Performance Metrics for Test Set=============\n",
      "              precision    recall  f1-score   support\n",
      "\n",
      "        econ     0.9810    0.9717    0.9763       106\n",
      "       onion     0.9250    0.9487    0.9367        39\n",
      "\n",
      "   micro avg     0.9655    0.9655    0.9655       145\n",
      "   macro avg     0.9530    0.9602    0.9565       145\n",
      "weighted avg     0.9659    0.9655    0.9657       145\n",
      "\n"
     ]
    },
    {
     "data": {
      "image/png": "[encoded data removed]",
      "text/plain": [
       "<Figure size 720x360 with 2 Axes>"
      ]
     },
     "metadata": {},
     "output_type": "display_data"
    }
   ],
   "source": [
    "def nlp_model(corpus, article_df, ticker_marks):\n",
    "    cv = CountVectorizer(max_features = 11000)\n",
    "    X = cv.fit_transform(corpus).toarray()\n",
    "    y = article_df.loc[:, 'class'].values\n",
    "    X_train, X_test, y_train, y_test = train_test_split(X, y, test_size=0.20, random_state=2)\n",
    "    classifier = MultinomialNB()\n",
    "    classifier.fit(X_train, y_train)\n",
    "    y_pred = classifier.predict(X_test)\n",
    "    \n",
    "    scoring = {'accuracy' : make_scorer(accuracy_score), \n",
    "           'precision' : make_scorer(precision_score, average='weighted'),\n",
    "           'recall' : make_scorer(recall_score, average='weighted'), \n",
    "           'f1_score' : make_scorer(f1_score, average='weighted')}\n",
    "    kfold = KFold(n_splits=10, random_state=42)\n",
    "    results = cross_validate(estimator=classifier, X=X_train, y=y_train, cv=kfold, scoring=scoring)\n",
    "    kfold_performance = pd.DataFrame({'Model': 'NB', 'ValAccuracy': np.mean(results['test_accuracy']),\n",
    "                                       'ValPrecision': np.mean(results['test_precision']),\n",
    "                                       'ValRecall': np.mean(results['test_recall']),\n",
    "                                       'ValF1Score': np.mean(results['test_f1_score'])}, index=[0])\n",
    "\n",
    "    print('=======Performance Metrics for Validation Set=============')\n",
    "    print(kfold_performance)\n",
    "    print()\n",
    "    print('=======Performance Metrics for Test Set=============')\n",
    "    print(classification_report(y_test, y_pred, target_names=ticker_marks, digits=4))\n",
    "    cm = confusion_matrix(y_test, y_pred)\n",
    "    plot_confusion_matrix(cm, title='Confusion Matrix for Test Set', ticker_marks=ticker_marks)\n",
    "\n",
    "\n",
    "def plot_confusion_matrix(cm, title='Confusion matrix', ticker_marks=['econ', 'onion'], cmap=plt.cm.Blues):\n",
    "    plt.rcParams['figure.figsize'] = (10, 5)\n",
    "    sns.set_context('notebook', font_scale=1.5)\n",
    "    plt.style.use('seaborn-white')\n",
    "    \n",
    "    plt.imshow(cm, interpolation='nearest', cmap=cmap)\n",
    "    plt.title(title)\n",
    "    plt.colorbar()\n",
    "\n",
    "    tick_marks = np.array(ticker_marks)\n",
    "    ax = plt.gca()\n",
    "    ax.set_xticks(np.arange(len(tick_marks)))\n",
    "    ax.set_xticklabels(tick_marks, rotation=45)\n",
    "    ax.set_yticks(np.arange(len(tick_marks)))\n",
    "    ax.set_yticklabels(tick_marks)\n",
    "#     plt.yticks(tick_marks)\n",
    "\n",
    "    thresh = cm.max() / 2.\n",
    "    for i, j in itertools.product(range(cm.shape[0]), range(cm.shape[1])):\n",
    "        plt.text(j, i, format(cm[i, j], '.0f'),\n",
    "                 horizontalalignment=\"center\",\n",
    "                 color=\"white\" if cm[i, j] > thresh else \"black\")\n",
    "    plt.tight_layout()\n",
    "    plt.ylabel('True label')\n",
    "    plt.xlabel('Predicted label')\n",
    "    plt.show()\n",
    "    \n",
    "nlp_model(corpus, article_df, ['econ', 'onion'])"
   ]
  },
  {
   "cell_type": "markdown",
   "metadata": {},
   "source": [
    "### Performance Analysis\n",
    "\n",
    "+ We could see that the overall prediction accuracy is very high expecially for *Economist*.\n",
    "+ We can see that our NB model predicts *Economist* better than *Onion*. The potential reason is that we have much less *Onion* labels in our trainning set, which will make our model difficult to extract most valuable keywords for *Onion* class. \n",
    "+ Another reason is that *Economist* is more serious in which the authors are more cautious with words they use, while *Onion* is not so serious, so some of the words are not *accurate* enough. It will incrase the prediction difficulty for *Onion* class.\n",
    "+ Also we are using *1-Gram* model here which disregards the correlation between words and appply *Navie Bayes* with some unrealistic assumption that features are independent with each other. One potential improvement is to build *N-Gram* model for *bag  of words*."
   ]
  },
  {
   "cell_type": "markdown",
   "metadata": {},
   "source": [
    "### Most Frequent Words in Each Class"
   ]
  },
  {
   "cell_type": "code",
   "execution_count": 144,
   "metadata": {},
   "outputs": [],
   "source": [
    "def word_counter(df):\n",
    "    corpus = data_cleaning(df)\n",
    "    corpus = ' '.join(corpus)\n",
    "    corpus = corpus.split()\n",
    "    counter = Counter(corpus)\n",
    "    return counter "
   ]
  },
  {
   "cell_type": "code",
   "execution_count": 145,
   "metadata": {},
   "outputs": [
    {
     "name": "stdout",
     "output_type": "stream",
     "text": [
      "50 articles cleaned...\n",
      "100 articles cleaned...\n",
      "150 articles cleaned...\n",
      "200 articles cleaned...\n",
      "250 articles cleaned...\n",
      "300 articles cleaned...\n",
      "350 articles cleaned...\n",
      "400 articles cleaned...\n",
      "450 articles cleaned...\n",
      "500 articles cleaned...\n",
      "complete.\n"
     ]
    }
   ],
   "source": [
    "econ_counter = word_counter(econ_df)"
   ]
  },
  {
   "cell_type": "code",
   "execution_count": 155,
   "metadata": {},
   "outputs": [
    {
     "name": "stdout",
     "output_type": "stream",
     "text": [
      "Most common five words in Economist: \n",
      "[('mr', 3068), ('year', 1460), ('govern', 1324), ('one', 1231), ('say', 1163)]\n",
      "\n",
      "Least common five words in Economist: \n",
      "[('gin', 1), ('aisl', 1), ('credenc', 1), ('afterlif', 1), ('lott', 1)]\n"
     ]
    }
   ],
   "source": [
    "econ_most_occur = econ_counter.most_common(5) \n",
    "econ_least_occur = econ_counter.most_common()[:-6:-1]\n",
    "print('Most common five words in Economist: ')\n",
    "print(econ_most_occur)\n",
    "print()\n",
    "print('Least common five words in Economist: ')\n",
    "print(econ_least_occur)"
   ]
  },
  {
   "cell_type": "code",
   "execution_count": 152,
   "metadata": {},
   "outputs": [
    {
     "name": "stdout",
     "output_type": "stream",
     "text": [
      "50 articles cleaned...\n",
      "100 articles cleaned...\n",
      "150 articles cleaned...\n",
      "complete.\n"
     ]
    }
   ],
   "source": [
    "onion_counter = word_counter(onion_df)"
   ]
  },
  {
   "cell_type": "code",
   "execution_count": 157,
   "metadata": {},
   "outputs": [
    {
     "name": "stdout",
     "output_type": "stream",
     "text": [
      "Most common five words in Onion: \n",
      "[('said', 1135), ('time', 399), ('one', 374), ('year', 330), ('like', 321)]\n",
      "\n",
      "Least common five words in Onion: \n",
      "[('fern', 1), ('width', 1), ('claw', 1), ('courtroom', 1), ('embroid', 1)]\n"
     ]
    }
   ],
   "source": [
    "onion_most_occur = onion_counter.most_common(5) \n",
    "onion_least_occur = onion_counter.most_common()[:-6:-1]\n",
    "print('Most common five words in Onion: ')\n",
    "print(onion_most_occur)\n",
    "print()\n",
    "print('Least common five words in Onion: ')\n",
    "print(onion_least_occur)"
   ]
  },
  {
   "cell_type": "markdown",
   "metadata": {},
   "source": [
    "+ We can see that the most common words in both *Economist* and *Onion* classes are not representative of the class. That means our data cleaning function needs to be modified to reduce these common words. \n",
    "+ Five words to represent *Economist* class: **economi**, **iraq**, **law**, **tax**, **rule** since usually they could represent some serious topics.\n",
    "\n",
    "+ Five words to represent *Economist* class: **school**, **good**, **play**, **home**, **famili** since usually they could represent some non-serious topics.\n",
    "\n",
    "+ I think these selected words are more useful for distinguishing between classes than others."
   ]
  },
  {
   "cell_type": "markdown",
   "metadata": {},
   "source": [
    "## **Part 2: Economist Regions**\n",
    "\n",
    "### Data Preparation"
   ]
  },
  {
   "cell_type": "code",
   "execution_count": 98,
   "metadata": {},
   "outputs": [
    {
     "data": {
      "text/html": [
       "<div>\n",
       "<style scoped>\n",
       "    .dataframe tbody tr th:only-of-type {\n",
       "        vertical-align: middle;\n",
       "    }\n",
       "\n",
       "    .dataframe tbody tr th {\n",
       "        vertical-align: top;\n",
       "    }\n",
       "\n",
       "    .dataframe thead th {\n",
       "        text-align: right;\n",
       "    }\n",
       "</style>\n",
       "<table border=\"1\" class=\"dataframe\">\n",
       "  <thead>\n",
       "    <tr style=\"text-align: right;\">\n",
       "      <th></th>\n",
       "      <th>file_name</th>\n",
       "      <th>text</th>\n",
       "      <th>class</th>\n",
       "    </tr>\n",
       "  </thead>\n",
       "  <tbody>\n",
       "    <tr>\n",
       "      <th>0</th>\n",
       "      <td>africa.1.txt</td>\n",
       "      <td>\\n                                            ...</td>\n",
       "      <td>0</td>\n",
       "    </tr>\n",
       "    <tr>\n",
       "      <th>1</th>\n",
       "      <td>africa.10.txt</td>\n",
       "      <td>\\n                                            ...</td>\n",
       "      <td>0</td>\n",
       "    </tr>\n",
       "    <tr>\n",
       "      <th>2</th>\n",
       "      <td>africa.11.txt</td>\n",
       "      <td>\\n   The Kurds say they still want more of it ...</td>\n",
       "      <td>0</td>\n",
       "    </tr>\n",
       "    <tr>\n",
       "      <th>3</th>\n",
       "      <td>africa.12.txt</td>\n",
       "      <td>\\n   A politician who paid the price for telli...</td>\n",
       "      <td>0</td>\n",
       "    </tr>\n",
       "    <tr>\n",
       "      <th>4</th>\n",
       "      <td>africa.13.txt</td>\n",
       "      <td>\\n   President Mwai Kibaki is loth to back dow...</td>\n",
       "      <td>0</td>\n",
       "    </tr>\n",
       "  </tbody>\n",
       "</table>\n",
       "</div>"
      ],
      "text/plain": [
       "       file_name                                               text  class\n",
       "0   africa.1.txt  \\n                                            ...      0\n",
       "1  africa.10.txt  \\n                                            ...      0\n",
       "2  africa.11.txt  \\n   The Kurds say they still want more of it ...      0\n",
       "3  africa.12.txt  \\n   A politician who paid the price for telli...      0\n",
       "4  africa.13.txt  \\n   President Mwai Kibaki is loth to back dow...      0"
      ]
     },
     "execution_count": 98,
     "metadata": {},
     "output_type": "execute_result"
    }
   ],
   "source": [
    "econ_path = 'C:/Users/mengh/Dropbox/FRE-7871-News-Analytics-and-Machine-Learning/HW1/economist/'\n",
    "\n",
    "def econ_data_preparation(path):\n",
    "    df = pd.DataFrame(columns=['file_name', 'text', 'class'])  \n",
    "    region_names = os.listdir(path)\n",
    "\n",
    "    for region_name in region_names:\n",
    "        # Create Dictionary for File Name and Text\n",
    "        file_name_and_text = {}\n",
    "        file_names = os.listdir(path+region_name)\n",
    "        for file in file_names:\n",
    "            if file.endswith(\".txt\"):\n",
    "                with open(path + region_name + '/'+ file, \"r\") as target_file:\n",
    "                     file_name_and_text[file] = target_file.read()\n",
    "\n",
    "        file_data = (pd.DataFrame.from_dict(file_name_and_text, orient='index')\n",
    "                     .reset_index().rename(index = str, columns = {'index': 'file_name', 0: 'text'}))\n",
    "        file_data['class'] = region_name \n",
    "        \n",
    "        df =  pd.concat([df, file_data], ignore_index=True)\n",
    "    \n",
    "    return df, region_names\n",
    "\n",
    "econ_df, region_names = econ_data_preparation(econ_path)\n",
    "econ_df = data_generate_label(econ_df)\n",
    "econ_df.head()"
   ]
  },
  {
   "cell_type": "markdown",
   "metadata": {},
   "source": [
    "### Data Cleaning"
   ]
  },
  {
   "cell_type": "code",
   "execution_count": 99,
   "metadata": {},
   "outputs": [
    {
     "name": "stdout",
     "output_type": "stream",
     "text": [
      "50 articles cleaned...\n",
      "100 articles cleaned...\n",
      "150 articles cleaned...\n",
      "200 articles cleaned...\n",
      "250 articles cleaned...\n",
      "300 articles cleaned...\n",
      "350 articles cleaned...\n",
      "400 articles cleaned...\n",
      "450 articles cleaned...\n",
      "500 articles cleaned...\n",
      "complete.\n"
     ]
    }
   ],
   "source": [
    "corpus_econ = data_cleaning(econ_df)"
   ]
  },
  {
   "cell_type": "markdown",
   "metadata": {},
   "source": [
    "### Model Testing"
   ]
  },
  {
   "cell_type": "code",
   "execution_count": 100,
   "metadata": {},
   "outputs": [
    {
     "name": "stdout",
     "output_type": "stream",
     "text": [
      "=======Performance Metrics for Validation Set=============\n",
      "  Model  ValAccuracy  ValPrecision  ValRecall  ValF1Score\n",
      "0    NB     0.814563      0.849923   0.814563    0.811468\n",
      "\n",
      "=======Performance Metrics for Test Set=============\n",
      "               precision    recall  f1-score   support\n",
      "\n",
      "       africa     0.9444    0.9444    0.9444        18\n",
      "         asia     0.9231    0.9231    0.9231        13\n",
      "      britain     0.7241    0.9545    0.8235        22\n",
      "       europe     0.8333    0.8333    0.8333        18\n",
      "international     0.3333    0.2222    0.2667         9\n",
      "latin_america     0.9333    0.9333    0.9333        15\n",
      "north_america     1.0000    0.6667    0.8000        12\n",
      "\n",
      "    micro avg     0.8318    0.8318    0.8318       107\n",
      "    macro avg     0.8131    0.7825    0.7892       107\n",
      " weighted avg     0.8311    0.8318    0.8235       107\n",
      "\n"
     ]
    },
    {
     "data": {
      "image/png": "[encoded data removed]",
      "text/plain": [
       "<Figure size 720x360 with 2 Axes>"
      ]
     },
     "metadata": {},
     "output_type": "display_data"
    }
   ],
   "source": [
    "nlp_model(corpus_econ, econ_df, region_names)"
   ]
  },
  {
   "cell_type": "markdown",
   "metadata": {},
   "source": [
    "### Performance Analysis\n",
    "\n",
    "+ We could see that the overall prediction accuracy is very high expecially for *north_america*.\n",
    "+ We can see our model can predict some classes better than the others. The potential reason is that some some class may contain less labels than the other, which causes the data imbalance problem and make some class feature not extracted accurate enough. \n",
    "+ We can see *britian* prediction is the least accurate one since it has some common feature with *europe* and *international* which makes it a little hard to distinguish.\n",
    "+ Most frequent words process could be similar to Part 1, which means most common words do not mean most representative. Our word cleaning process need to be improved to select informative words, otherwise we just add so such noise to make our classification problem hard. More smart way to choose representative information need to be applied. Least common words sometimes contain much more useful information. "
   ]
  }
 ],
 "metadata": {
  "kernelspec": {
   "display_name": "Python 3",
   "language": "python",
   "name": "python3"
  },
  "language_info": {
   "codemirror_mode": {
    "name": "ipython",
    "version": 3
   },
   "file_extension": ".py",
   "mimetype": "text/x-python",
   "name": "python",
   "nbconvert_exporter": "python",
   "pygments_lexer": "ipython3",
   "version": "3.6.7"
  }
 },
 "nbformat": 4,
 "nbformat_minor": 2
}
